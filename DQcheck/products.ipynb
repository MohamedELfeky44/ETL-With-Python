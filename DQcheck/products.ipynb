{
 "cells": [
  {
   "cell_type": "code",
   "execution_count": 1,
   "id": "0d50b112-2d5f-4f74-b45c-420c9fac603e",
   "metadata": {},
   "outputs": [
    {
     "data": {
      "text/html": [
       "<div>\n",
       "<style scoped>\n",
       "    .dataframe tbody tr th:only-of-type {\n",
       "        vertical-align: middle;\n",
       "    }\n",
       "\n",
       "    .dataframe tbody tr th {\n",
       "        vertical-align: top;\n",
       "    }\n",
       "\n",
       "    .dataframe thead th {\n",
       "        text-align: right;\n",
       "    }\n",
       "</style>\n",
       "<table border=\"1\" class=\"dataframe\">\n",
       "  <thead>\n",
       "    <tr style=\"text-align: right;\">\n",
       "      <th></th>\n",
       "      <th>product_id</th>\n",
       "      <th>product_name</th>\n",
       "      <th>brand_id</th>\n",
       "      <th>category_id</th>\n",
       "      <th>model_year</th>\n",
       "      <th>list_price</th>\n",
       "      <th>Timestamp</th>\n",
       "    </tr>\n",
       "  </thead>\n",
       "  <tbody>\n",
       "    <tr>\n",
       "      <th>0</th>\n",
       "      <td>1</td>\n",
       "      <td>Trek 820 - 2016</td>\n",
       "      <td>9</td>\n",
       "      <td>6</td>\n",
       "      <td>2016</td>\n",
       "      <td>379.99</td>\n",
       "      <td>2024-05-02 00:55:47.043606</td>\n",
       "    </tr>\n",
       "    <tr>\n",
       "      <th>1</th>\n",
       "      <td>2</td>\n",
       "      <td>Ritchey Timberwolf Frameset - 2016</td>\n",
       "      <td>5</td>\n",
       "      <td>6</td>\n",
       "      <td>2016</td>\n",
       "      <td>749.99</td>\n",
       "      <td>2024-05-02 00:55:47.043606</td>\n",
       "    </tr>\n",
       "    <tr>\n",
       "      <th>2</th>\n",
       "      <td>3</td>\n",
       "      <td>Surly Wednesday Frameset - 2016</td>\n",
       "      <td>8</td>\n",
       "      <td>6</td>\n",
       "      <td>2016</td>\n",
       "      <td>999.99</td>\n",
       "      <td>2024-05-02 00:55:47.043606</td>\n",
       "    </tr>\n",
       "    <tr>\n",
       "      <th>3</th>\n",
       "      <td>4</td>\n",
       "      <td>Trek Fuel EX 8 29 - 2016</td>\n",
       "      <td>9</td>\n",
       "      <td>6</td>\n",
       "      <td>2016</td>\n",
       "      <td>2899.99</td>\n",
       "      <td>2024-05-02 00:55:47.043606</td>\n",
       "    </tr>\n",
       "    <tr>\n",
       "      <th>4</th>\n",
       "      <td>5</td>\n",
       "      <td>Heller Shagamaw Frame - 2016</td>\n",
       "      <td>3</td>\n",
       "      <td>6</td>\n",
       "      <td>2016</td>\n",
       "      <td>1320.99</td>\n",
       "      <td>2024-05-02 00:55:47.043606</td>\n",
       "    </tr>\n",
       "    <tr>\n",
       "      <th>...</th>\n",
       "      <td>...</td>\n",
       "      <td>...</td>\n",
       "      <td>...</td>\n",
       "      <td>...</td>\n",
       "      <td>...</td>\n",
       "      <td>...</td>\n",
       "      <td>...</td>\n",
       "    </tr>\n",
       "    <tr>\n",
       "      <th>329</th>\n",
       "      <td>317</td>\n",
       "      <td>Trek Checkpoint ALR 5 - 2019</td>\n",
       "      <td>9</td>\n",
       "      <td>7</td>\n",
       "      <td>2019</td>\n",
       "      <td>1999.99</td>\n",
       "      <td>2024-05-02 00:55:47.043606</td>\n",
       "    </tr>\n",
       "    <tr>\n",
       "      <th>330</th>\n",
       "      <td>318</td>\n",
       "      <td>Trek Checkpoint ALR 5 Women's - 2019</td>\n",
       "      <td>9</td>\n",
       "      <td>7</td>\n",
       "      <td>2019</td>\n",
       "      <td>1999.99</td>\n",
       "      <td>2024-05-02 00:55:47.043606</td>\n",
       "    </tr>\n",
       "    <tr>\n",
       "      <th>331</th>\n",
       "      <td>319</td>\n",
       "      <td>Trek Checkpoint SL 5 Women's - 2019</td>\n",
       "      <td>9</td>\n",
       "      <td>7</td>\n",
       "      <td>2019</td>\n",
       "      <td>2799.99</td>\n",
       "      <td>2024-05-02 00:55:47.043606</td>\n",
       "    </tr>\n",
       "    <tr>\n",
       "      <th>332</th>\n",
       "      <td>320</td>\n",
       "      <td>Trek Checkpoint SL 6 - 2019</td>\n",
       "      <td>9</td>\n",
       "      <td>7</td>\n",
       "      <td>2019</td>\n",
       "      <td>3799.99</td>\n",
       "      <td>2024-05-02 00:55:47.043606</td>\n",
       "    </tr>\n",
       "    <tr>\n",
       "      <th>333</th>\n",
       "      <td>321</td>\n",
       "      <td>Trek Checkpoint ALR Frameset - 2019</td>\n",
       "      <td>9</td>\n",
       "      <td>7</td>\n",
       "      <td>2019</td>\n",
       "      <td>3199.99</td>\n",
       "      <td>2024-05-02 00:55:47.043606</td>\n",
       "    </tr>\n",
       "  </tbody>\n",
       "</table>\n",
       "<p>334 rows × 7 columns</p>\n",
       "</div>"
      ],
      "text/plain": [
       "     product_id                          product_name  brand_id  category_id  \\\n",
       "0             1                       Trek 820 - 2016         9            6   \n",
       "1             2    Ritchey Timberwolf Frameset - 2016         5            6   \n",
       "2             3       Surly Wednesday Frameset - 2016         8            6   \n",
       "3             4              Trek Fuel EX 8 29 - 2016         9            6   \n",
       "4             5          Heller Shagamaw Frame - 2016         3            6   \n",
       "..          ...                                   ...       ...          ...   \n",
       "329         317          Trek Checkpoint ALR 5 - 2019         9            7   \n",
       "330         318  Trek Checkpoint ALR 5 Women's - 2019         9            7   \n",
       "331         319   Trek Checkpoint SL 5 Women's - 2019         9            7   \n",
       "332         320           Trek Checkpoint SL 6 - 2019         9            7   \n",
       "333         321   Trek Checkpoint ALR Frameset - 2019         9            7   \n",
       "\n",
       "     model_year  list_price                   Timestamp  \n",
       "0          2016      379.99  2024-05-02 00:55:47.043606  \n",
       "1          2016      749.99  2024-05-02 00:55:47.043606  \n",
       "2          2016      999.99  2024-05-02 00:55:47.043606  \n",
       "3          2016     2899.99  2024-05-02 00:55:47.043606  \n",
       "4          2016     1320.99  2024-05-02 00:55:47.043606  \n",
       "..          ...         ...                         ...  \n",
       "329        2019     1999.99  2024-05-02 00:55:47.043606  \n",
       "330        2019     1999.99  2024-05-02 00:55:47.043606  \n",
       "331        2019     2799.99  2024-05-02 00:55:47.043606  \n",
       "332        2019     3799.99  2024-05-02 00:55:47.043606  \n",
       "333        2019     3199.99  2024-05-02 00:55:47.043606  \n",
       "\n",
       "[334 rows x 7 columns]"
      ]
     },
     "execution_count": 1,
     "metadata": {},
     "output_type": "execute_result"
    }
   ],
   "source": [
    "import pandas as pd \n",
    "file_path = '../Landing/products.csv'\n",
    "df = pd.read_csv(file_path)\n",
    "df"
   ]
  },
  {
   "cell_type": "code",
   "execution_count": 2,
   "id": "c2991b59-7b51-479b-a184-e69f2b7f513e",
   "metadata": {
    "scrolled": true
   },
   "outputs": [
    {
     "data": {
      "text/plain": [
       "product_id      0\n",
       "product_name    0\n",
       "brand_id        0\n",
       "category_id     0\n",
       "model_year      0\n",
       "list_price      0\n",
       "Timestamp       0\n",
       "dtype: int64"
      ]
     },
     "execution_count": 2,
     "metadata": {},
     "output_type": "execute_result"
    }
   ],
   "source": [
    "#check for nulls\n",
    "df.isnull().sum()"
   ]
  },
  {
   "cell_type": "code",
   "execution_count": 3,
   "id": "c0437fb7-b64a-4341-940c-0467ea09e4ee",
   "metadata": {},
   "outputs": [
    {
     "data": {
      "text/plain": [
       "13"
      ]
     },
     "execution_count": 3,
     "metadata": {},
     "output_type": "execute_result"
    }
   ],
   "source": [
    "df.duplicated().sum()"
   ]
  },
  {
   "cell_type": "code",
   "execution_count": 5,
   "id": "9468813d-304b-4ccf-859b-e31c3b7a6535",
   "metadata": {},
   "outputs": [
    {
     "data": {
      "text/plain": [
       "0"
      ]
     },
     "execution_count": 5,
     "metadata": {},
     "output_type": "execute_result"
    }
   ],
   "source": [
    "df.drop_duplicates(inplace=True)\n",
    "df.duplicated().sum()"
   ]
  },
  {
   "cell_type": "markdown",
   "id": "75ebbcad-3b65-4648-81c4-d77c0c6c6daa",
   "metadata": {},
   "source": [
    "### since there are no nulls and we handled duplicates we can write the file"
   ]
  },
  {
   "cell_type": "code",
   "execution_count": 6,
   "id": "bc21f1c0-c9ae-44e6-824a-78dd32cdc18a",
   "metadata": {},
   "outputs": [],
   "source": [
    "import os\n",
    "\n",
    "# Define the file path\n",
    "output_directory = \"../staging_1\"\n",
    "output_file_path = os.path.join(output_directory, \"products.csv\")\n",
    "\n",
    "# Write the DataFrame to CSV\n",
    "df.to_csv(output_file_path, index=False)\n"
   ]
  },
  {
   "cell_type": "code",
   "execution_count": null,
   "id": "121dc52c-9ea3-4278-9750-85f8e3e54247",
   "metadata": {},
   "outputs": [],
   "source": []
  }
 ],
 "metadata": {
  "kernelspec": {
   "display_name": "Python 3 (ipykernel)",
   "language": "python",
   "name": "python3"
  },
  "language_info": {
   "codemirror_mode": {
    "name": "ipython",
    "version": 3
   },
   "file_extension": ".py",
   "mimetype": "text/x-python",
   "name": "python",
   "nbconvert_exporter": "python",
   "pygments_lexer": "ipython3",
   "version": "3.12.0"
  }
 },
 "nbformat": 4,
 "nbformat_minor": 5
}
