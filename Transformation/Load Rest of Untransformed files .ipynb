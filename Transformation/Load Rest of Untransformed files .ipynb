{
 "cells": [
  {
   "cell_type": "code",
   "execution_count": 3,
   "id": "d2405cca-727b-4d1b-9475-023556aac7e5",
   "metadata": {},
   "outputs": [
    {
     "data": {
      "text/plain": [
       "['customers.csv', 'orders.csv', 'order_items.csv', 'order_status.csv']"
      ]
     },
     "execution_count": 3,
     "metadata": {},
     "output_type": "execute_result"
    }
   ],
   "source": [
    "import os \n",
    "import shutil\n",
    "transformed_files = os.listdir(\"../Staging_2\")\n",
    "transformed_files"
   ]
  },
  {
   "cell_type": "code",
   "execution_count": 2,
   "id": "5cb3ba6a-05e5-4276-be40-d59d57baf1d1",
   "metadata": {},
   "outputs": [
    {
     "data": {
      "text/plain": [
       "['.ipynb_checkpoints',\n",
       " 'brands.csv',\n",
       " 'categories.csv',\n",
       " 'customers.csv',\n",
       " 'exchange.csv',\n",
       " 'orders.csv',\n",
       " 'order_items.csv',\n",
       " 'products.csv',\n",
       " 'staffs.csv',\n",
       " 'stocks.csv',\n",
       " 'stores.csv']"
      ]
     },
     "execution_count": 2,
     "metadata": {},
     "output_type": "execute_result"
    }
   ],
   "source": [
    "all_files = os.listdir(\"../Staging_1\")\n",
    "all_files"
   ]
  },
  {
   "cell_type": "code",
   "execution_count": 4,
   "id": "d16fb973-2160-4016-9bcf-7f33b7ec5ea0",
   "metadata": {},
   "outputs": [],
   "source": [
    "source_directory = \"../Staging_1\"\n",
    "target_directory = \"../Staging_2\"\n",
    "for file in all_files:\n",
    "    if file not in transformed_files and file.endswith('.csv'):\n",
    "        source_path = os.path.join(source_directory, file)\n",
    "        target_path = os.path.join(target_directory, file)\n",
    "        shutil.copy(source_path, target_path)"
   ]
  },
  {
   "cell_type": "code",
   "execution_count": null,
   "id": "a074c2d5-bbb6-4664-90fa-a705a7c66bf9",
   "metadata": {},
   "outputs": [],
   "source": []
  }
 ],
 "metadata": {
  "kernelspec": {
   "display_name": "Python 3 (ipykernel)",
   "language": "python",
   "name": "python3"
  },
  "language_info": {
   "codemirror_mode": {
    "name": "ipython",
    "version": 3
   },
   "file_extension": ".py",
   "mimetype": "text/x-python",
   "name": "python",
   "nbconvert_exporter": "python",
   "pygments_lexer": "ipython3",
   "version": "3.12.0"
  }
 },
 "nbformat": 4,
 "nbformat_minor": 5
}
