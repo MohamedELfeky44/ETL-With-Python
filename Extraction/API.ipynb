{
 "cells": [
  {
   "cell_type": "code",
   "execution_count": 10,
   "id": "f65080cf-5bf3-44df-9fbd-d4db95417443",
   "metadata": {},
   "outputs": [
    {
     "data": {
      "text/html": [
       "<div>\n",
       "<style scoped>\n",
       "    .dataframe tbody tr th:only-of-type {\n",
       "        vertical-align: middle;\n",
       "    }\n",
       "\n",
       "    .dataframe tbody tr th {\n",
       "        vertical-align: top;\n",
       "    }\n",
       "\n",
       "    .dataframe thead th {\n",
       "        text-align: right;\n",
       "    }\n",
       "</style>\n",
       "<table border=\"1\" class=\"dataframe\">\n",
       "  <thead>\n",
       "    <tr style=\"text-align: right;\">\n",
       "      <th></th>\n",
       "      <th>disclaimer</th>\n",
       "      <th>license</th>\n",
       "      <th>timestamp</th>\n",
       "      <th>base</th>\n",
       "      <th>rates.AED</th>\n",
       "      <th>rates.AFN</th>\n",
       "      <th>rates.ALL</th>\n",
       "      <th>rates.AMD</th>\n",
       "      <th>rates.ANG</th>\n",
       "      <th>rates.AOA</th>\n",
       "      <th>...</th>\n",
       "      <th>rates.XCD</th>\n",
       "      <th>rates.XDR</th>\n",
       "      <th>rates.XOF</th>\n",
       "      <th>rates.XPD</th>\n",
       "      <th>rates.XPF</th>\n",
       "      <th>rates.XPT</th>\n",
       "      <th>rates.YER</th>\n",
       "      <th>rates.ZAR</th>\n",
       "      <th>rates.ZMW</th>\n",
       "      <th>rates.ZWL</th>\n",
       "    </tr>\n",
       "  </thead>\n",
       "  <tbody>\n",
       "    <tr>\n",
       "      <th>0</th>\n",
       "      <td>Usage subject to terms: https://openexchangera...</td>\n",
       "      <td>https://openexchangerates.org/license</td>\n",
       "      <td>1714608029</td>\n",
       "      <td>USD</td>\n",
       "      <td>3.67284</td>\n",
       "      <td>72.094775</td>\n",
       "      <td>93.75</td>\n",
       "      <td>388.01106</td>\n",
       "      <td>1.80202</td>\n",
       "      <td>836.5</td>\n",
       "      <td>...</td>\n",
       "      <td>2.70255</td>\n",
       "      <td>0.758947</td>\n",
       "      <td>612.021737</td>\n",
       "      <td>0.001049</td>\n",
       "      <td>111.339036</td>\n",
       "      <td>0.001047</td>\n",
       "      <td>250.349961</td>\n",
       "      <td>18.59031</td>\n",
       "      <td>26.773697</td>\n",
       "      <td>322</td>\n",
       "    </tr>\n",
       "  </tbody>\n",
       "</table>\n",
       "<p>1 rows × 173 columns</p>\n",
       "</div>"
      ],
      "text/plain": [
       "                                          disclaimer  \\\n",
       "0  Usage subject to terms: https://openexchangera...   \n",
       "\n",
       "                                 license   timestamp base  rates.AED  \\\n",
       "0  https://openexchangerates.org/license  1714608029  USD    3.67284   \n",
       "\n",
       "   rates.AFN  rates.ALL  rates.AMD  rates.ANG  rates.AOA  ...  rates.XCD  \\\n",
       "0  72.094775      93.75  388.01106    1.80202      836.5  ...    2.70255   \n",
       "\n",
       "   rates.XDR   rates.XOF  rates.XPD   rates.XPF  rates.XPT   rates.YER  \\\n",
       "0   0.758947  612.021737   0.001049  111.339036   0.001047  250.349961   \n",
       "\n",
       "   rates.ZAR  rates.ZMW  rates.ZWL  \n",
       "0   18.59031  26.773697        322  \n",
       "\n",
       "[1 rows x 173 columns]"
      ]
     },
     "execution_count": 10,
     "metadata": {},
     "output_type": "execute_result"
    }
   ],
   "source": [
    "import requests\n",
    "import pandas as pd\n",
    "response = requests.get('https://openexchangerates.org/api/latest.json' , params={'app_id' : 'a3a028b082a7484eb68a9dd1f0d6c89d'})\n",
    "\n",
    "data = response.json()\n",
    "df = pd.json_normalize(data)\n",
    "\n",
    "df"
   ]
  },
  {
   "cell_type": "code",
   "execution_count": 11,
   "id": "ceeb85c2-b149-4109-80f9-00171d34f438",
   "metadata": {},
   "outputs": [
    {
     "name": "stderr",
     "output_type": "stream",
     "text": [
      "C:\\Users\\M.El-fiqy\\AppData\\Local\\Temp\\ipykernel_6536\\479217019.py:4: SettingWithCopyWarning: \n",
      "A value is trying to be set on a copy of a slice from a DataFrame.\n",
      "Try using .loc[row_indexer,col_indexer] = value instead\n",
      "\n",
      "See the caveats in the documentation: https://pandas.pydata.org/pandas-docs/stable/user_guide/indexing.html#returning-a-view-versus-a-copy\n",
      "  df['timestamp_extraction'] = pd.Timestamp.now()\n"
     ]
    },
    {
     "data": {
      "text/html": [
       "<div>\n",
       "<style scoped>\n",
       "    .dataframe tbody tr th:only-of-type {\n",
       "        vertical-align: middle;\n",
       "    }\n",
       "\n",
       "    .dataframe tbody tr th {\n",
       "        vertical-align: top;\n",
       "    }\n",
       "\n",
       "    .dataframe thead th {\n",
       "        text-align: right;\n",
       "    }\n",
       "</style>\n",
       "<table border=\"1\" class=\"dataframe\">\n",
       "  <thead>\n",
       "    <tr style=\"text-align: right;\">\n",
       "      <th></th>\n",
       "      <th>timestamp</th>\n",
       "      <th>EGP</th>\n",
       "      <th>timestamp_extraction</th>\n",
       "    </tr>\n",
       "  </thead>\n",
       "  <tbody>\n",
       "    <tr>\n",
       "      <th>0</th>\n",
       "      <td>2024-05-02 00:00:29</td>\n",
       "      <td>47.6735</td>\n",
       "      <td>2024-05-02 03:06:55.420804</td>\n",
       "    </tr>\n",
       "  </tbody>\n",
       "</table>\n",
       "</div>"
      ],
      "text/plain": [
       "            timestamp      EGP       timestamp_extraction\n",
       "0 2024-05-02 00:00:29  47.6735 2024-05-02 03:06:55.420804"
      ]
     },
     "execution_count": 11,
     "metadata": {},
     "output_type": "execute_result"
    }
   ],
   "source": [
    "df['timestamp'] = pd.to_datetime(df['timestamp'],unit='s')\n",
    "df.rename(columns=lambda x: x.split('.')[1] if x.startswith('rates.') else x, inplace=True)\n",
    "df = df[['timestamp', 'EGP']]\n",
    "df['timestamp_extraction'] = pd.Timestamp.now()\n",
    "df"
   ]
  },
  {
   "cell_type": "code",
   "execution_count": 12,
   "id": "4d82408e-dce6-43ef-b2db-687a8082631a",
   "metadata": {},
   "outputs": [],
   "source": [
    "import os\n",
    "save_directory = \"../Landing\"\n",
    "csv_file_path = os.path.join(save_directory, \"exchange.csv\")\n",
    "df.to_csv(csv_file_path, index=False)"
   ]
  },
  {
   "cell_type": "code",
   "execution_count": null,
   "id": "b310bfad-c801-416b-819b-24e7a846c8b1",
   "metadata": {},
   "outputs": [],
   "source": []
  }
 ],
 "metadata": {
  "kernelspec": {
   "display_name": "Python 3 (ipykernel)",
   "language": "python",
   "name": "python3"
  },
  "language_info": {
   "codemirror_mode": {
    "name": "ipython",
    "version": 3
   },
   "file_extension": ".py",
   "mimetype": "text/x-python",
   "name": "python",
   "nbconvert_exporter": "python",
   "pygments_lexer": "ipython3",
   "version": "3.12.0"
  }
 },
 "nbformat": 4,
 "nbformat_minor": 5
}
