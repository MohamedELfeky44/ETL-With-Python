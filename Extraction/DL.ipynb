{
 "cells": [
  {
   "cell_type": "code",
   "execution_count": 1,
   "id": "752b82e3-7787-4dde-a8f5-17d7c9ed20b4",
   "metadata": {},
   "outputs": [],
   "source": [
    "import pandas as pd\n",
    "import os "
   ]
  },
  {
   "cell_type": "code",
   "execution_count": 4,
   "id": "abb4f1f2-297b-4d3d-9897-3c436796ef29",
   "metadata": {},
   "outputs": [
    {
     "data": {
      "text/plain": [
       "['brands.csv',\n",
       " 'categories.csv',\n",
       " 'customers.csv',\n",
       " 'orders.csv',\n",
       " 'products.csv',\n",
       " 'staffs.csv',\n",
       " 'stocks.csv',\n",
       " 'stores.csv']"
      ]
     },
     "execution_count": 4,
     "metadata": {},
     "output_type": "execute_result"
    }
   ],
   "source": [
    "directory = \"../bikestore_dim\"\n",
    "files = [file for file in os.listdir(directory) if file.endswith('.csv')]\n",
    "files"
   ]
  },
  {
   "cell_type": "code",
   "execution_count": 34,
   "id": "657e9399-873b-4f8a-8f08-f99e5e616b39",
   "metadata": {},
   "outputs": [],
   "source": [
    "dataframes = []\n",
    "for i, file in enumerate(files):\n",
    "    file_path = os.path.join(directory,file)\n",
    "    name = file.split('.')[0] \n",
    "    globals()[name]= pd.read_csv(file_path)\n",
    "    dataframes.append(file.split('.')[0])\n",
    "\n"
   ]
  },
  {
   "cell_type": "code",
   "execution_count": 35,
   "id": "fc7dece4-e2c5-4606-aaf1-042c81a8dd29",
   "metadata": {},
   "outputs": [
    {
     "data": {
      "text/plain": [
       "['brands',\n",
       " 'categories',\n",
       " 'customers',\n",
       " 'orders',\n",
       " 'products',\n",
       " 'staffs',\n",
       " 'stocks',\n",
       " 'stores']"
      ]
     },
     "execution_count": 35,
     "metadata": {},
     "output_type": "execute_result"
    }
   ],
   "source": [
    "dataframes"
   ]
  },
  {
   "cell_type": "code",
   "execution_count": 41,
   "id": "e23f77d1-b054-4dd1-9d10-af896eeaa341",
   "metadata": {},
   "outputs": [],
   "source": [
    "import pandas as pd\n",
    "\n",
    "\n",
    "# Iterate over the DataFrame names\n",
    "for df_name in dataframes:\n",
    "    # Get the DataFrame by name from the global namespace\n",
    "    df = globals().get(df_name)\n",
    "    df['Timestamp'] = pd.Timestamp.now()\n"
   ]
  },
  {
   "cell_type": "code",
   "execution_count": 49,
   "id": "18d98b9d-0504-4b8d-944b-1a7881846204",
   "metadata": {},
   "outputs": [
    {
     "data": {
      "text/plain": [
       "'brands.csv'"
      ]
     },
     "execution_count": 49,
     "metadata": {},
     "output_type": "execute_result"
    }
   ],
   "source": [
    "dataframes[0]+'.csv'"
   ]
  },
  {
   "cell_type": "code",
   "execution_count": 55,
   "id": "bbc2f7ec-c2ba-44f2-b70e-c4b513ec5755",
   "metadata": {},
   "outputs": [],
   "source": [
    "save_directory = \"../Landing\"\n",
    "for df_name in dataframes:\n",
    "    df = globals().get(df_name)\n",
    "    file_name = df_name +'.csv'\n",
    "    csv_file_path = os.path.join(save_directory, file_name)\n",
    "    df.to_csv(csv_file_path, index=False)"
   ]
  },
  {
   "cell_type": "code",
   "execution_count": null,
   "id": "0e936d8b-c84c-44cc-ad93-d5651178cd3a",
   "metadata": {},
   "outputs": [],
   "source": []
  }
 ],
 "metadata": {
  "kernelspec": {
   "display_name": "Python 3 (ipykernel)",
   "language": "python",
   "name": "python3"
  },
  "language_info": {
   "codemirror_mode": {
    "name": "ipython",
    "version": 3
   },
   "file_extension": ".py",
   "mimetype": "text/x-python",
   "name": "python",
   "nbconvert_exporter": "python",
   "pygments_lexer": "ipython3",
   "version": "3.12.0"
  }
 },
 "nbformat": 4,
 "nbformat_minor": 5
}
